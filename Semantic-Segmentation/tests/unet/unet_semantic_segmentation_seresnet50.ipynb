{
  "cells": [
    {
      "cell_type": "markdown",
      "metadata": {
        "id": "cKP2Yz4X-lhl"
      },
      "source": [
        "## Semantic segmentation tests"
      ]
    },
    {
      "cell_type": "code",
      "execution_count": 1,
      "metadata": {
        "colab": {
          "base_uri": "https://localhost:8080/"
        },
        "id": "NRHOh1D-CbIw",
        "outputId": "8732bb05-c0da-4609-bdec-bcac1b5a06dd"
      },
      "outputs": [
        {
          "output_type": "stream",
          "name": "stdout",
          "text": [
            "Mounted at /content/drive\n"
          ]
        }
      ],
      "source": [
        "# read data from google drive\n",
        "\n",
        "from google.colab import drive\n",
        "drive.mount('/content/drive')"
      ]
    },
    {
      "cell_type": "code",
      "execution_count": 2,
      "metadata": {
        "colab": {
          "base_uri": "https://localhost:8080/"
        },
        "id": "dGglRJJEDR2n",
        "outputId": "4fa9d2ff-af41-400d-d499-3f539d979fe6"
      },
      "outputs": [
        {
          "output_type": "stream",
          "name": "stdout",
          "text": [
            "Collecting segmentation-models\n",
            "  Downloading segmentation_models-1.0.1-py3-none-any.whl (33 kB)\n",
            "Collecting keras-applications<=1.0.8,>=1.0.7 (from segmentation-models)\n",
            "  Downloading Keras_Applications-1.0.8-py3-none-any.whl (50 kB)\n",
            "\u001b[?25l     \u001b[90m━━━━━━━━━━━━━━━━━━━━━━━━━━━━━━━━━━━━━━━━\u001b[0m \u001b[32m0.0/50.7 kB\u001b[0m \u001b[31m?\u001b[0m eta \u001b[36m-:--:--\u001b[0m\r\u001b[2K     \u001b[90m━━━━━━━━━━━━━━━━━━━━━━━━━━━━━━━━━━━━━━━━\u001b[0m \u001b[32m50.7/50.7 kB\u001b[0m \u001b[31m4.3 MB/s\u001b[0m eta \u001b[36m0:00:00\u001b[0m\n",
            "\u001b[?25hCollecting image-classifiers==1.0.0 (from segmentation-models)\n",
            "  Downloading image_classifiers-1.0.0-py3-none-any.whl (19 kB)\n",
            "Collecting efficientnet==1.0.0 (from segmentation-models)\n",
            "  Downloading efficientnet-1.0.0-py3-none-any.whl (17 kB)\n",
            "Requirement already satisfied: scikit-image in /usr/local/lib/python3.10/dist-packages (from efficientnet==1.0.0->segmentation-models) (0.19.3)\n",
            "Requirement already satisfied: numpy>=1.9.1 in /usr/local/lib/python3.10/dist-packages (from keras-applications<=1.0.8,>=1.0.7->segmentation-models) (1.22.4)\n",
            "Requirement already satisfied: h5py in /usr/local/lib/python3.10/dist-packages (from keras-applications<=1.0.8,>=1.0.7->segmentation-models) (3.8.0)\n",
            "Requirement already satisfied: scipy>=1.4.1 in /usr/local/lib/python3.10/dist-packages (from scikit-image->efficientnet==1.0.0->segmentation-models) (1.10.1)\n",
            "Requirement already satisfied: networkx>=2.2 in /usr/local/lib/python3.10/dist-packages (from scikit-image->efficientnet==1.0.0->segmentation-models) (3.1)\n",
            "Requirement already satisfied: pillow!=7.1.0,!=7.1.1,!=8.3.0,>=6.1.0 in /usr/local/lib/python3.10/dist-packages (from scikit-image->efficientnet==1.0.0->segmentation-models) (8.4.0)\n",
            "Requirement already satisfied: imageio>=2.4.1 in /usr/local/lib/python3.10/dist-packages (from scikit-image->efficientnet==1.0.0->segmentation-models) (2.25.1)\n",
            "Requirement already satisfied: tifffile>=2019.7.26 in /usr/local/lib/python3.10/dist-packages (from scikit-image->efficientnet==1.0.0->segmentation-models) (2023.7.10)\n",
            "Requirement already satisfied: PyWavelets>=1.1.1 in /usr/local/lib/python3.10/dist-packages (from scikit-image->efficientnet==1.0.0->segmentation-models) (1.4.1)\n",
            "Requirement already satisfied: packaging>=20.0 in /usr/local/lib/python3.10/dist-packages (from scikit-image->efficientnet==1.0.0->segmentation-models) (23.1)\n",
            "Installing collected packages: keras-applications, image-classifiers, efficientnet, segmentation-models\n",
            "Successfully installed efficientnet-1.0.0 image-classifiers-1.0.0 keras-applications-1.0.8 segmentation-models-1.0.1\n"
          ]
        }
      ],
      "source": [
        "# install segmentation models package\n",
        "!pip install -U segmentation-models"
      ]
    },
    {
      "cell_type": "code",
      "execution_count": 3,
      "metadata": {
        "colab": {
          "base_uri": "https://localhost:8080/"
        },
        "id": "iX-31OOP-lhm",
        "outputId": "31bcf2c1-a7c3-4920-be95-0d5d7aa18634"
      },
      "outputs": [
        {
          "output_type": "stream",
          "name": "stdout",
          "text": [
            "Segmentation Models: using `tf.keras` framework.\n"
          ]
        }
      ],
      "source": [
        "import os\n",
        "import tensorflow as tf\n",
        "os.environ[\"SM_FRAMEWORK\"] = \"tf.keras\"\n",
        "import segmentation_models as sm\n",
        "import glob\n",
        "import cv2\n",
        "import numpy as np\n",
        "import matplotlib.pyplot as plt\n",
        "from keras.utils import normalize\n",
        "from keras.metrics import MeanIoU\n",
        "from natsort import natsorted\n",
        "import tqdm\n",
        "\n",
        "from albumentations import CenterCrop, RandomRotate90, GridDistortion, HorizontalFlip, VerticalFlip"
      ]
    },
    {
      "cell_type": "code",
      "execution_count": 4,
      "metadata": {
        "colab": {
          "base_uri": "https://localhost:8080/"
        },
        "id": "TBBPLMpz-lhn",
        "outputId": "4a1c5ee1-f28b-423e-ba56-b26789ccfff6"
      },
      "outputs": [
        {
          "output_type": "stream",
          "name": "stdout",
          "text": [
            "[PhysicalDevice(name='/physical_device:GPU:0', device_type='GPU')]\n"
          ]
        }
      ],
      "source": [
        "print(tf.config.list_physical_devices('GPU'))\n",
        "os.environ['TF_FORCE_GPU_ALLOW_GROWTH'] = 'true'"
      ]
    },
    {
      "cell_type": "code",
      "execution_count": 5,
      "metadata": {
        "id": "PZNoV8Nd-lhn"
      },
      "outputs": [],
      "source": [
        "# directory = \"/media/madziegielewska/Seagate Expansion Drive/MAGISTERKA/diploma-project/Semantic-Segmentation/train_test_data\"\n",
        "directory = \"/content/drive/MyDrive/train_test_data\""
      ]
    },
    {
      "cell_type": "code",
      "execution_count": 6,
      "metadata": {
        "id": "2rs67m3A-lhn"
      },
      "outputs": [],
      "source": [
        "# resize images\n",
        "size_x = 384\n",
        "size_y = 384\n",
        "\n",
        "# number of classes for segmentation: background, needle, oocyte and spermatozoid\n",
        "n_classes = 4"
      ]
    },
    {
      "cell_type": "code",
      "execution_count": 7,
      "metadata": {
        "id": "O6EK_0UvzK9Q"
      },
      "outputs": [],
      "source": [
        "train_list = glob.glob(f\"{directory}/raw/*.*\")\n",
        "train_list_sorted = natsorted(train_list,reverse=False)\n",
        "\n",
        "mask_list = glob.glob(f\"{directory}/vis/*.*\")\n",
        "mask_list_sorted = natsorted(mask_list,reverse=False)"
      ]
    },
    {
      "cell_type": "code",
      "execution_count": 8,
      "metadata": {
        "id": "BpNXcxtu-lho"
      },
      "outputs": [],
      "source": [
        "# capture training image info as a list\n",
        "train_images = []\n",
        "\n",
        "for train_path in train_list_sorted:\n",
        "  img = cv2.imread(train_path, 1)\n",
        "  img = cv2.resize(img, (size_x, size_y))\n",
        "  train_images.append(img)\n",
        "\n",
        "# convert list to array for machine learning processing\n",
        "train_images = np.array(train_images)\n",
        "# print(len(train_images))"
      ]
    },
    {
      "cell_type": "code",
      "execution_count": 9,
      "metadata": {
        "id": "xgtGp4t4PvHX"
      },
      "outputs": [],
      "source": [
        "# capture mask/label info as a list\n",
        "train_masks = []\n",
        "\n",
        "for mask_path in mask_list_sorted:\n",
        "  mask = cv2.imread(mask_path, 0)\n",
        "  mask = cv2.resize(mask, (size_x, size_y), interpolation = cv2.INTER_NEAREST)  # otherwise ground truth changes due to interpolation\n",
        "  train_masks.append(mask)\n",
        "\n",
        "# convert list to array for machine learning processing\n",
        "train_masks = np.array(train_masks)\n",
        "#print(len(train_masks))"
      ]
    },
    {
      "cell_type": "markdown",
      "metadata": {
        "id": "YxGoVGVCl20M"
      },
      "source": [
        "### Data augmentation"
      ]
    },
    {
      "cell_type": "code",
      "execution_count": 10,
      "metadata": {
        "id": "9uNxT1OIl2jc"
      },
      "outputs": [],
      "source": [
        "# function to augment data\n",
        "\n",
        "def augment_data(images, masks):\n",
        "    augmented_images = []\n",
        "    augmented_masks = []\n",
        "\n",
        "    # iterate over list of images and masks\n",
        "    for x, y in zip(images, masks):\n",
        "        augmented_images.append(x)\n",
        "        augmented_masks.append(y)\n",
        "\n",
        "        aug = CenterCrop(size_x, size_y, p=1.0)\n",
        "        augmented = aug(image=x, mask=y)\n",
        "        x1 = augmented['image']\n",
        "        y1 = augmented['mask']\n",
        "\n",
        "        augmented_images.append(x1)\n",
        "        augmented_masks.append(y1)\n",
        "\n",
        "        aug = RandomRotate90(p=1.0)\n",
        "        augmented = aug(image=x, mask=y)\n",
        "        x2 = augmented['image']\n",
        "        y2 = augmented['mask']\n",
        "\n",
        "        augmented_images.append(x2)\n",
        "        augmented_masks.append(y2)\n",
        "\n",
        "        aug =GridDistortion(p=1.0)\n",
        "        augmented = aug(image=x, mask=y)\n",
        "        x3 = augmented['image']\n",
        "        y3 = augmented['mask']\n",
        "\n",
        "        augmented_images.append(x3)\n",
        "        augmented_masks.append(y3)\n",
        "\n",
        "        aug = HorizontalFlip(p=1.0)\n",
        "        augmented = aug(image=x, mask=y)\n",
        "        x4 = augmented['image']\n",
        "        y4 = augmented['mask']\n",
        "\n",
        "        augmented_images.append(x4)\n",
        "        augmented_masks.append(y4)\n",
        "\n",
        "        aug = VerticalFlip(p=1.0)\n",
        "        augmented = aug(image=x, mask=y)\n",
        "        x5 = augmented['image']\n",
        "        y5 = augmented['mask']\n",
        "\n",
        "        augmented_images.append(x5)\n",
        "        augmented_masks.append(y5)\n",
        "\n",
        "    return augmented_images, augmented_masks"
      ]
    },
    {
      "cell_type": "code",
      "execution_count": 11,
      "metadata": {
        "id": "pSp9zVJ7rTCz"
      },
      "outputs": [],
      "source": [
        "augmented_images, augmented_masks = augment_data(train_images, train_masks)\n",
        "\n",
        "train_images = augmented_images\n",
        "train_images = np.array(train_images)\n",
        "\n",
        "train_masks = augmented_masks\n",
        "train_masks = np.array(train_masks)"
      ]
    },
    {
      "cell_type": "code",
      "execution_count": 12,
      "metadata": {
        "colab": {
          "base_uri": "https://localhost:8080/"
        },
        "id": "Sh6hJZ48qJt3",
        "outputId": "ed1d5c92-c481-4b6f-9e53-10228d90db38"
      },
      "outputs": [
        {
          "output_type": "stream",
          "name": "stderr",
          "text": [
            "/usr/local/lib/python3.10/dist-packages/sklearn/preprocessing/_label.py:116: DataConversionWarning: A column-vector y was passed when a 1d array was expected. Please change the shape of y to (n_samples, ), for example using ravel().\n",
            "  y = column_or_1d(y, warn=True)\n"
          ]
        }
      ],
      "source": [
        "#encode labels but multi dim array so need to flatten, encode and reshape\n",
        "from sklearn.preprocessing import LabelEncoder\n",
        "labelencoder = LabelEncoder()\n",
        "n, h, w = train_masks.shape\n",
        "\n",
        "train_masks_reshaped = train_masks.reshape(-1,1)\n",
        "train_masks_reshaped_encoded = labelencoder.fit_transform(train_masks_reshaped)\n",
        "train_masks_encoded_original_shape = train_masks_reshaped_encoded.reshape(n, h, w)\n",
        "\n",
        "# print(\"unique train masks: \", np.unique(train_masks))\n",
        "# print(\"unique train masks after encoding: \", np.unique(train_masks_encoded_original_shape))"
      ]
    },
    {
      "cell_type": "code",
      "execution_count": 13,
      "metadata": {
        "id": "85pfdLZy-lho"
      },
      "outputs": [],
      "source": [
        "# train_images = np.expand_dims(train_images, axis=3)\n",
        "# train_images = normalize(train_images, axis=1)\n",
        "train_masks_input = np.expand_dims(train_masks_encoded_original_shape, axis=3)"
      ]
    },
    {
      "cell_type": "code",
      "execution_count": 14,
      "metadata": {
        "id": "zYkanR2R-lho"
      },
      "outputs": [],
      "source": [
        "from sklearn.model_selection import train_test_split\n",
        "X_train, X_test, y_train, y_test = train_test_split(train_images, train_masks_input, test_size = 0.1, random_state = 42)"
      ]
    },
    {
      "cell_type": "code",
      "execution_count": 15,
      "metadata": {
        "id": "3KXSwhmqRUbI"
      },
      "outputs": [],
      "source": [
        "b_test = 0\n",
        "n_test = 0\n",
        "o_test = 0\n",
        "s_test = 0\n",
        "\n",
        "for y in y_test:\n",
        "  b_test += y.size - np.count_nonzero(y)\n",
        "  n_test += np.count_nonzero(y == 1)\n",
        "  o_test += np.count_nonzero(y == 2)\n",
        "  s_test += np.count_nonzero(y == 3)"
      ]
    },
    {
      "cell_type": "code",
      "execution_count": 16,
      "metadata": {
        "id": "B_pRa44dcnIL"
      },
      "outputs": [],
      "source": [
        "classes_count_mean = [0,0,0,0]\n",
        "\n",
        "classes_count_mean[0] = b_test/len(y_test)\n",
        "classes_count_mean[1] = n_test/len(y_test)\n",
        "classes_count_mean[2] = o_test/len(y_test)\n",
        "classes_count_mean[3] = s_test/len(y_test)\n",
        "\n",
        "classes_count_mean = [1/x for x in classes_count_mean]\n",
        "\n",
        "classess_weights = classes_count_mean / np.linalg.norm(classes_count_mean)"
      ]
    },
    {
      "cell_type": "code",
      "execution_count": 17,
      "metadata": {
        "id": "nJEs2Rz2-lho"
      },
      "outputs": [],
      "source": [
        "# print(\"Class values in the dataset are ... \", np.unique(y_train))  # 0 is the background/few unlabeled\n",
        "\n",
        "from keras.utils import to_categorical\n",
        "train_masks_cat = to_categorical(y_train, num_classes=n_classes)\n",
        "y_train_cat = train_masks_cat.reshape((y_train.shape[0], y_train.shape[1], y_train.shape[2], n_classes))\n",
        "\n",
        "\n",
        "test_masks_cat = to_categorical(y_test, num_classes=n_classes)\n",
        "y_test_cat = test_masks_cat.reshape((y_test.shape[0], y_test.shape[1], y_test.shape[2], n_classes))\n"
      ]
    },
    {
      "cell_type": "code",
      "execution_count": 18,
      "metadata": {
        "id": "hwfSA1Tk-lhp"
      },
      "outputs": [],
      "source": [
        "n_classes=4\n",
        "activation='softmax'\n",
        "\n",
        "LR = 0.001\n",
        "optim = tf.keras.optimizers.legacy.Adam(LR)\n",
        "\n",
        "# Segmentation models losses can be combined together by '+' and scaled by integer or float factor\n",
        "dice_loss = sm.losses.DiceLoss(class_weights=np.array(classess_weights))\n",
        "focal_loss = sm.losses.CategoricalFocalLoss()\n",
        "total_loss = dice_loss + (1 * focal_loss)\n",
        "\n",
        "# actulally total_loss can be imported directly from library, above example just show you how to manipulate with losses\n",
        "# total_loss = sm.losses.binary_focal_dice_loss # or sm.losses.categorical_focal_dice_loss\n",
        "\n",
        "metrics = [sm.metrics.IOUScore(class_weights=classess_weights, threshold=0.5),\n",
        "           sm.metrics.FScore(threshold=0.5),\n",
        "           sm.metrics.Precision(threshold=0.5),\n",
        "           sm.metrics.Recall(threshold=0.5)]"
      ]
    },
    {
      "cell_type": "markdown",
      "metadata": {
        "id": "SsoHFxHbil69"
      },
      "source": [
        "### Training"
      ]
    },
    {
      "cell_type": "code",
      "execution_count": 19,
      "metadata": {
        "id": "zGRhllhZbOYy"
      },
      "outputs": [],
      "source": [
        "BACKBONE = 'seresnet50'\n",
        "preprocess_input = sm.get_preprocessing(BACKBONE)"
      ]
    },
    {
      "cell_type": "code",
      "execution_count": 20,
      "metadata": {
        "colab": {
          "base_uri": "https://localhost:8080/"
        },
        "id": "CIcjzMUW-lhp",
        "outputId": "0715fddc-5780-476f-c18c-37d8e3fb3b2a"
      },
      "outputs": [
        {
          "output_type": "stream",
          "name": "stdout",
          "text": [
            "Downloading data from https://github.com/qubvel/classification_models/releases/download/0.0.1/seresnet50_imagenet_1000_no_top.h5\n",
            "104934688/104934688 [==============================] - 1s 0us/step\n",
            "Epoch 1/100\n",
            "180/180 [==============================] - 124s 537ms/step - loss: 0.9192 - iou_score: 0.0658 - f1-score: 0.7342 - precision: 0.8122 - recall: 0.7280 - val_loss: 1.7187 - val_iou_score: 1.5077e-04 - val_f1-score: 0.1111 - val_precision: 0.6341 - val_recall: 0.2500 - lr: 0.0010\n",
            "Epoch 2/100\n",
            "180/180 [==============================] - 90s 503ms/step - loss: 0.8532 - iou_score: 0.1091 - f1-score: 0.8212 - precision: 0.8419 - recall: 0.8111 - val_loss: 0.8506 - val_iou_score: 0.1121 - val_f1-score: 0.8309 - val_precision: 0.8189 - val_recall: 0.8495 - lr: 0.0010\n",
            "Epoch 3/100\n",
            "180/180 [==============================] - 90s 502ms/step - loss: 0.8374 - iou_score: 0.1240 - f1-score: 0.8459 - precision: 0.8601 - recall: 0.8375 - val_loss: 0.8488 - val_iou_score: 0.1122 - val_f1-score: 0.8241 - val_precision: 0.8895 - val_recall: 0.7845 - lr: 0.0010\n",
            "Epoch 4/100\n",
            "180/180 [==============================] - 90s 502ms/step - loss: 0.8306 - iou_score: 0.1310 - f1-score: 0.8613 - precision: 0.8745 - recall: 0.8541 - val_loss: 0.8352 - val_iou_score: 0.1295 - val_f1-score: 0.7898 - val_precision: 0.8082 - val_recall: 0.8031 - lr: 0.0010\n",
            "Epoch 5/100\n",
            "180/180 [==============================] - 90s 502ms/step - loss: 0.8233 - iou_score: 0.1387 - f1-score: 0.8720 - precision: 0.8837 - recall: 0.8650 - val_loss: 0.8347 - val_iou_score: 0.1263 - val_f1-score: 0.8568 - val_precision: 0.8696 - val_recall: 0.8486 - lr: 0.0010\n",
            "Epoch 6/100\n",
            "180/180 [==============================] - 90s 501ms/step - loss: 0.8219 - iou_score: 0.1403 - f1-score: 0.8748 - precision: 0.8843 - recall: 0.8689 - val_loss: 0.8399 - val_iou_score: 0.1200 - val_f1-score: 0.8520 - val_precision: 0.8443 - val_recall: 0.8653 - lr: 0.0010\n",
            "Epoch 7/100\n",
            "180/180 [==============================] - 90s 501ms/step - loss: 0.8194 - iou_score: 0.1430 - f1-score: 0.8774 - precision: 0.8872 - recall: 0.8714 - val_loss: 0.8350 - val_iou_score: 0.1312 - val_f1-score: 0.8127 - val_precision: 0.8264 - val_recall: 0.8212 - lr: 0.0010\n",
            "Epoch 8/100\n",
            "180/180 [==============================] - 90s 502ms/step - loss: 0.8156 - iou_score: 0.1473 - f1-score: 0.8834 - precision: 0.8925 - recall: 0.8784 - val_loss: 0.8296 - val_iou_score: 0.1316 - val_f1-score: 0.8619 - val_precision: 0.9016 - val_recall: 0.8329 - lr: 0.0010\n",
            "Epoch 9/100\n",
            "180/180 [==============================] - 90s 502ms/step - loss: 0.8149 - iou_score: 0.1482 - f1-score: 0.8841 - precision: 0.8936 - recall: 0.8783 - val_loss: 0.8265 - val_iou_score: 0.1348 - val_f1-score: 0.8655 - val_precision: 0.8597 - val_recall: 0.8820 - lr: 0.0010\n",
            "Epoch 10/100\n",
            "180/180 [==============================] - 90s 502ms/step - loss: 0.8109 - iou_score: 0.1528 - f1-score: 0.8912 - precision: 0.8998 - recall: 0.8859 - val_loss: 0.8260 - val_iou_score: 0.1349 - val_f1-score: 0.8780 - val_precision: 0.8959 - val_recall: 0.8676 - lr: 0.0010\n",
            "Epoch 11/100\n",
            "180/180 [==============================] - 90s 500ms/step - loss: 0.8094 - iou_score: 0.1547 - f1-score: 0.8932 - precision: 0.9016 - recall: 0.8885 - val_loss: 0.8326 - val_iou_score: 0.1272 - val_f1-score: 0.8735 - val_precision: 0.9264 - val_recall: 0.8401 - lr: 0.0010\n",
            "Epoch 12/100\n",
            "180/180 [==============================] - 90s 502ms/step - loss: 0.8070 - iou_score: 0.1574 - f1-score: 0.8988 - precision: 0.9072 - recall: 0.8933 - val_loss: 0.8217 - val_iou_score: 0.1393 - val_f1-score: 0.8849 - val_precision: 0.8976 - val_recall: 0.8765 - lr: 0.0010\n",
            "Epoch 13/100\n",
            "180/180 [==============================] - 90s 502ms/step - loss: 0.8094 - iou_score: 0.1551 - f1-score: 0.8923 - precision: 0.9006 - recall: 0.8874 - val_loss: 0.8215 - val_iou_score: 0.1400 - val_f1-score: 0.8808 - val_precision: 0.8935 - val_recall: 0.8732 - lr: 0.0010\n",
            "Epoch 14/100\n",
            "180/180 [==============================] - 90s 501ms/step - loss: 0.8066 - iou_score: 0.1584 - f1-score: 0.8965 - precision: 0.9047 - recall: 0.8915 - val_loss: 0.8268 - val_iou_score: 0.1351 - val_f1-score: 0.8603 - val_precision: 0.8589 - val_recall: 0.8674 - lr: 0.0010\n",
            "Epoch 15/100\n",
            "180/180 [==============================] - 90s 501ms/step - loss: 0.8043 - iou_score: 0.1610 - f1-score: 0.9004 - precision: 0.9079 - recall: 0.8961 - val_loss: 0.8300 - val_iou_score: 0.1303 - val_f1-score: 0.8737 - val_precision: 0.9073 - val_recall: 0.8580 - lr: 0.0010\n",
            "Epoch 16/100\n",
            "180/180 [==============================] - 90s 501ms/step - loss: 0.8040 - iou_score: 0.1616 - f1-score: 0.9022 - precision: 0.9096 - recall: 0.8979 - val_loss: 0.8222 - val_iou_score: 0.1390 - val_f1-score: 0.8856 - val_precision: 0.9090 - val_recall: 0.8696 - lr: 0.0010\n",
            "Epoch 17/100\n",
            "180/180 [==============================] - 90s 502ms/step - loss: 0.8009 - iou_score: 0.1652 - f1-score: 0.9064 - precision: 0.9140 - recall: 0.9016 - val_loss: 0.8198 - val_iou_score: 0.1416 - val_f1-score: 0.8870 - val_precision: 0.9054 - val_recall: 0.8744 - lr: 0.0010\n",
            "Epoch 18/100\n",
            "180/180 [==============================] - 90s 500ms/step - loss: 0.7997 - iou_score: 0.1669 - f1-score: 0.9075 - precision: 0.9147 - recall: 0.9031 - val_loss: 0.8232 - val_iou_score: 0.1375 - val_f1-score: 0.8855 - val_precision: 0.9097 - val_recall: 0.8674 - lr: 0.0010\n",
            "Epoch 19/100\n",
            "180/180 [==============================] - 90s 501ms/step - loss: 0.7972 - iou_score: 0.1700 - f1-score: 0.9116 - precision: 0.9188 - recall: 0.9069 - val_loss: 0.8227 - val_iou_score: 0.1383 - val_f1-score: 0.8776 - val_precision: 0.9108 - val_recall: 0.8533 - lr: 0.0010\n",
            "Epoch 20/100\n",
            "180/180 [==============================] - 90s 501ms/step - loss: 0.7997 - iou_score: 0.1670 - f1-score: 0.9058 - precision: 0.9143 - recall: 0.9000 - val_loss: 0.8231 - val_iou_score: 0.1383 - val_f1-score: 0.8757 - val_precision: 0.8991 - val_recall: 0.8631 - lr: 0.0010\n",
            "Epoch 21/100\n",
            "180/180 [==============================] - 90s 501ms/step - loss: 0.8009 - iou_score: 0.1655 - f1-score: 0.9029 - precision: 0.9123 - recall: 0.8969 - val_loss: 0.8614 - val_iou_score: 0.0985 - val_f1-score: 0.8426 - val_precision: 0.9343 - val_recall: 0.8074 - lr: 0.0010\n",
            "Epoch 22/100\n",
            "180/180 [==============================] - 90s 501ms/step - loss: 0.7995 - iou_score: 0.1674 - f1-score: 0.9065 - precision: 0.9148 - recall: 0.9006 - val_loss: 0.8192 - val_iou_score: 0.1423 - val_f1-score: 0.8871 - val_precision: 0.8957 - val_recall: 0.8819 - lr: 0.0010\n",
            "Epoch 23/100\n",
            "180/180 [==============================] - 90s 501ms/step - loss: 0.7961 - iou_score: 0.1718 - f1-score: 0.9119 - precision: 0.9204 - recall: 0.9059 - val_loss: 0.8200 - val_iou_score: 0.1410 - val_f1-score: 0.8885 - val_precision: 0.8882 - val_recall: 0.8916 - lr: 0.0010\n",
            "Epoch 24/100\n",
            "180/180 [==============================] - 90s 501ms/step - loss: 0.7952 - iou_score: 0.1730 - f1-score: 0.9135 - precision: 0.9211 - recall: 0.9084 - val_loss: 0.8219 - val_iou_score: 0.1402 - val_f1-score: 0.8790 - val_precision: 0.9217 - val_recall: 0.8465 - lr: 0.0010\n",
            "Epoch 25/100\n",
            "180/180 [==============================] - 90s 502ms/step - loss: 0.7937 - iou_score: 0.1750 - f1-score: 0.9156 - precision: 0.9239 - recall: 0.9101 - val_loss: 0.8161 - val_iou_score: 0.1457 - val_f1-score: 0.8945 - val_precision: 0.9149 - val_recall: 0.8799 - lr: 0.0010\n",
            "Epoch 26/100\n",
            "180/180 [==============================] - 90s 501ms/step - loss: 0.7983 - iou_score: 0.1692 - f1-score: 0.9074 - precision: 0.9162 - recall: 0.9020 - val_loss: 0.8254 - val_iou_score: 0.1352 - val_f1-score: 0.8797 - val_precision: 0.8845 - val_recall: 0.8794 - lr: 0.0010\n",
            "Epoch 27/100\n",
            "180/180 [==============================] - 90s 501ms/step - loss: 0.7963 - iou_score: 0.1717 - f1-score: 0.9098 - precision: 0.9183 - recall: 0.9040 - val_loss: 0.8197 - val_iou_score: 0.1421 - val_f1-score: 0.8863 - val_precision: 0.8992 - val_recall: 0.8787 - lr: 0.0010\n",
            "Epoch 28/100\n",
            "180/180 [==============================] - 90s 501ms/step - loss: 0.7936 - iou_score: 0.1752 - f1-score: 0.9145 - precision: 0.9215 - recall: 0.9098 - val_loss: 0.8251 - val_iou_score: 0.1357 - val_f1-score: 0.8787 - val_precision: 0.9207 - val_recall: 0.8489 - lr: 0.0010\n",
            "Epoch 29/100\n",
            "180/180 [==============================] - 90s 501ms/step - loss: 0.7922 - iou_score: 0.1771 - f1-score: 0.9165 - precision: 0.9247 - recall: 0.9110 - val_loss: 0.8172 - val_iou_score: 0.1445 - val_f1-score: 0.8926 - val_precision: 0.9109 - val_recall: 0.8826 - lr: 0.0010\n",
            "Epoch 30/100\n",
            "180/180 [==============================] - 90s 503ms/step - loss: 0.7907 - iou_score: 0.1793 - f1-score: 0.9193 - precision: 0.9278 - recall: 0.9131 - val_loss: 0.8151 - val_iou_score: 0.1472 - val_f1-score: 0.8940 - val_precision: 0.8914 - val_recall: 0.9010 - lr: 0.0010\n",
            "Epoch 31/100\n",
            "180/180 [==============================] - 90s 501ms/step - loss: 0.7895 - iou_score: 0.1809 - f1-score: 0.9210 - precision: 0.9293 - recall: 0.9151 - val_loss: 0.8208 - val_iou_score: 0.1406 - val_f1-score: 0.8896 - val_precision: 0.9256 - val_recall: 0.8647 - lr: 0.0010\n",
            "Epoch 32/100\n",
            "180/180 [==============================] - 90s 501ms/step - loss: 0.7900 - iou_score: 0.1803 - f1-score: 0.9204 - precision: 0.9282 - recall: 0.9146 - val_loss: 0.8185 - val_iou_score: 0.1431 - val_f1-score: 0.8919 - val_precision: 0.9148 - val_recall: 0.8761 - lr: 0.0010\n",
            "Epoch 33/100\n",
            "180/180 [==============================] - 91s 506ms/step - loss: 0.7888 - iou_score: 0.1819 - f1-score: 0.9215 - precision: 0.9290 - recall: 0.9161 - val_loss: 0.8214 - val_iou_score: 0.1400 - val_f1-score: 0.8881 - val_precision: 0.9303 - val_recall: 0.8598 - lr: 0.0010\n",
            "Epoch 34/100\n",
            "180/180 [==============================] - 90s 502ms/step - loss: 0.7884 - iou_score: 0.1823 - f1-score: 0.9221 - precision: 0.9298 - recall: 0.9167 - val_loss: 0.8160 - val_iou_score: 0.1461 - val_f1-score: 0.8905 - val_precision: 0.9212 - val_recall: 0.8673 - lr: 0.0010\n",
            "Epoch 35/100\n",
            "180/180 [==============================] - 90s 501ms/step - loss: 0.7899 - iou_score: 0.1804 - f1-score: 0.9191 - precision: 0.9265 - recall: 0.9143 - val_loss: 0.8223 - val_iou_score: 0.1388 - val_f1-score: 0.8877 - val_precision: 0.9213 - val_recall: 0.8670 - lr: 0.0010\n",
            "Epoch 36/100\n",
            "180/180 [==============================] - 90s 501ms/step - loss: 0.7879 - iou_score: 0.1832 - f1-score: 0.9227 - precision: 0.9298 - recall: 0.9177 - val_loss: 0.8174 - val_iou_score: 0.1443 - val_f1-score: 0.8942 - val_precision: 0.9251 - val_recall: 0.8756 - lr: 0.0010\n",
            "Epoch 37/100\n",
            "180/180 [==============================] - 90s 501ms/step - loss: 0.7869 - iou_score: 0.1846 - f1-score: 0.9239 - precision: 0.9312 - recall: 0.9187 - val_loss: 0.8173 - val_iou_score: 0.1445 - val_f1-score: 0.8935 - val_precision: 0.9195 - val_recall: 0.8773 - lr: 0.0010\n",
            "Epoch 38/100\n",
            "180/180 [==============================] - 90s 501ms/step - loss: 0.7879 - iou_score: 0.1832 - f1-score: 0.9215 - precision: 0.9297 - recall: 0.9157 - val_loss: 0.8169 - val_iou_score: 0.1455 - val_f1-score: 0.8901 - val_precision: 0.9117 - val_recall: 0.8782 - lr: 0.0010\n",
            "Epoch 39/100\n",
            "180/180 [==============================] - 90s 501ms/step - loss: 0.7876 - iou_score: 0.1838 - f1-score: 0.9217 - precision: 0.9297 - recall: 0.9159 - val_loss: 0.8103 - val_iou_score: 0.1534 - val_f1-score: 0.8961 - val_precision: 0.8970 - val_recall: 0.8998 - lr: 0.0010\n",
            "Epoch 40/100\n",
            "180/180 [==============================] - 90s 500ms/step - loss: 0.7884 - iou_score: 0.1825 - f1-score: 0.9207 - precision: 0.9297 - recall: 0.9143 - val_loss: 0.8126 - val_iou_score: 0.1503 - val_f1-score: 0.8956 - val_precision: 0.9041 - val_recall: 0.8902 - lr: 0.0010\n",
            "Epoch 41/100\n",
            "180/180 [==============================] - 90s 501ms/step - loss: 0.7871 - iou_score: 0.1843 - f1-score: 0.9233 - precision: 0.9314 - recall: 0.9175 - val_loss: 0.8138 - val_iou_score: 0.1490 - val_f1-score: 0.8966 - val_precision: 0.9132 - val_recall: 0.8860 - lr: 0.0010\n",
            "Epoch 42/100\n",
            "180/180 [==============================] - 90s 501ms/step - loss: 0.7854 - iou_score: 0.1866 - f1-score: 0.9258 - precision: 0.9334 - recall: 0.9200 - val_loss: 0.8151 - val_iou_score: 0.1471 - val_f1-score: 0.8957 - val_precision: 0.9125 - val_recall: 0.8864 - lr: 0.0010\n",
            "Epoch 43/100\n",
            "180/180 [==============================] - 90s 501ms/step - loss: 0.7847 - iou_score: 0.1880 - f1-score: 0.9269 - precision: 0.9340 - recall: 0.9217 - val_loss: 0.8132 - val_iou_score: 0.1496 - val_f1-score: 0.8953 - val_precision: 0.9227 - val_recall: 0.8756 - lr: 0.0010\n",
            "Epoch 44/100\n",
            "180/180 [==============================] - 90s 501ms/step - loss: 0.7845 - iou_score: 0.1880 - f1-score: 0.9272 - precision: 0.9361 - recall: 0.9205 - val_loss: 0.8157 - val_iou_score: 0.1465 - val_f1-score: 0.8952 - val_precision: 0.9349 - val_recall: 0.8683 - lr: 0.0010\n",
            "Epoch 45/100\n",
            "180/180 [==============================] - 90s 501ms/step - loss: 0.7842 - iou_score: 0.1884 - f1-score: 0.9273 - precision: 0.9351 - recall: 0.9213 - val_loss: 0.8133 - val_iou_score: 0.1493 - val_f1-score: 0.8969 - val_precision: 0.9256 - val_recall: 0.8758 - lr: 0.0010\n",
            "Epoch 46/100\n",
            "180/180 [==============================] - 90s 501ms/step - loss: 0.7834 - iou_score: 0.1895 - f1-score: 0.9282 - precision: 0.9355 - recall: 0.9229 - val_loss: 0.8132 - val_iou_score: 0.1498 - val_f1-score: 0.8987 - val_precision: 0.9173 - val_recall: 0.8859 - lr: 0.0010\n",
            "Epoch 47/100\n",
            "180/180 [==============================] - 90s 501ms/step - loss: 0.7835 - iou_score: 0.1895 - f1-score: 0.9283 - precision: 0.9353 - recall: 0.9231 - val_loss: 0.8115 - val_iou_score: 0.1517 - val_f1-score: 0.8989 - val_precision: 0.9101 - val_recall: 0.8936 - lr: 0.0010\n",
            "Epoch 48/100\n",
            "180/180 [==============================] - 90s 501ms/step - loss: 0.7854 - iou_score: 0.1868 - f1-score: 0.9245 - precision: 0.9331 - recall: 0.9181 - val_loss: 0.8217 - val_iou_score: 0.1400 - val_f1-score: 0.8821 - val_precision: 0.8865 - val_recall: 0.8819 - lr: 0.0010\n",
            "Epoch 49/100\n",
            "180/180 [==============================] - 90s 502ms/step - loss: 0.7855 - iou_score: 0.1868 - f1-score: 0.9236 - precision: 0.9315 - recall: 0.9177 - val_loss: 0.8136 - val_iou_score: 0.1492 - val_f1-score: 0.8923 - val_precision: 0.9088 - val_recall: 0.8826 - lr: 0.0010\n"
          ]
        }
      ],
      "source": [
        "# preprocess input\n",
        "X_train = preprocess_input(X_train)\n",
        "X_test = preprocess_input(X_test)\n",
        "\n",
        "# define model\n",
        "model = sm.Unet(BACKBONE, encoder_weights='imagenet', classes=n_classes, activation=activation)\n",
        "# model = sm.PSPNet(BACKBONE, encoder_weights='imagenet', classes=n_classes, activation=activation)\n",
        "\n",
        "# compile keras model with defined optimozer, loss and metrics\n",
        "model.compile(optim, total_loss, metrics=metrics)\n",
        "\n",
        "callback = tf.keras.callbacks.EarlyStopping(monitor='val_loss', mode='min', restore_best_weights=True, patience=10)\n",
        "reduce_lr = tf.keras.callbacks.ReduceLROnPlateau(monitor='val_loss', mode=\"min\", factor=0.1,\n",
        "                              patience=10, min_lr=0.00001)\n",
        "#print(model.summary())\n",
        "\n",
        "\n",
        "history=model.fit(X_train,\n",
        "        y_train_cat,\n",
        "        batch_size=8,\n",
        "        epochs=100,\n",
        "        verbose=1,\n",
        "        callbacks=[callback, reduce_lr],\n",
        "        validation_data=(X_test, y_test_cat))\n",
        "\n",
        "\n",
        "model_in_mem = model"
      ]
    },
    {
      "cell_type": "code",
      "source": [
        "model_in_mem.save('/content/drive/MyDrive/segmentation_models/unet_softmax_1500_seresnet50.hdf5')"
      ],
      "metadata": {
        "id": "p56ozsYP-Hj1"
      },
      "execution_count": 22,
      "outputs": []
    },
    {
      "cell_type": "code",
      "execution_count": 21,
      "metadata": {
        "id": "0f-2BdYjXc-0",
        "colab": {
          "base_uri": "https://localhost:8080/",
          "height": 17
        },
        "outputId": "a78a0ac4-a47a-485d-f090-fb27dd2d3831"
      },
      "outputs": [
        {
          "output_type": "display_data",
          "data": {
            "text/plain": [
              "<IPython.core.display.Javascript object>"
            ],
            "application/javascript": [
              "\n",
              "    async function download(id, filename, size) {\n",
              "      if (!google.colab.kernel.accessAllowed) {\n",
              "        return;\n",
              "      }\n",
              "      const div = document.createElement('div');\n",
              "      const label = document.createElement('label');\n",
              "      label.textContent = `Downloading \"${filename}\": `;\n",
              "      div.appendChild(label);\n",
              "      const progress = document.createElement('progress');\n",
              "      progress.max = size;\n",
              "      div.appendChild(progress);\n",
              "      document.body.appendChild(div);\n",
              "\n",
              "      const buffers = [];\n",
              "      let downloaded = 0;\n",
              "\n",
              "      const channel = await google.colab.kernel.comms.open(id);\n",
              "      // Send a message to notify the kernel that we're ready.\n",
              "      channel.send({})\n",
              "\n",
              "      for await (const message of channel.messages) {\n",
              "        // Send a message to notify the kernel that we're ready.\n",
              "        channel.send({})\n",
              "        if (message.buffers) {\n",
              "          for (const buffer of message.buffers) {\n",
              "            buffers.push(buffer);\n",
              "            downloaded += buffer.byteLength;\n",
              "            progress.value = downloaded;\n",
              "          }\n",
              "        }\n",
              "      }\n",
              "      const blob = new Blob(buffers, {type: 'application/binary'});\n",
              "      const a = document.createElement('a');\n",
              "      a.href = window.URL.createObjectURL(blob);\n",
              "      a.download = filename;\n",
              "      div.appendChild(a);\n",
              "      a.click();\n",
              "      div.remove();\n",
              "    }\n",
              "  "
            ]
          },
          "metadata": {}
        },
        {
          "output_type": "display_data",
          "data": {
            "text/plain": [
              "<IPython.core.display.Javascript object>"
            ],
            "application/javascript": [
              "download(\"download_b65d929b-8b89-440d-a835-159039a933b2\", \"unet_softmax_1500_seresnet50.hdf5\", 422326440)"
            ]
          },
          "metadata": {}
        }
      ],
      "source": [
        "model_in_mem.save('unet_softmax_1500_seresnet50.hdf5')\n",
        "from google.colab import files\n",
        "files.download('unet_softmax_1500_seresnet50.hdf5')"
      ]
    },
    {
      "cell_type": "code",
      "execution_count": null,
      "metadata": {
        "id": "NvQCPYhG-lhq"
      },
      "outputs": [],
      "source": [
        "#plot the training and validation accuracy and loss at each epoch\n",
        "loss = history.history['loss']\n",
        "val_loss = history.history['val_loss']\n",
        "epochs = range(1, len(loss) + 1)\n",
        "plt.plot(epochs, loss, 'y', label='Training loss')\n",
        "plt.plot(epochs, val_loss, 'r', label='Validation loss')\n",
        "plt.title('Training and validation loss')\n",
        "plt.xlabel('Epochs')\n",
        "plt.ylabel('Loss')\n",
        "plt.legend()\n",
        "plt.show()\n",
        "\n",
        "acc = history.history['iou_score']\n",
        "val_acc = history.history['val_iou_score']\n",
        "\n",
        "plt.plot(epochs, acc, 'y', label='Training IOU')\n",
        "plt.plot(epochs, val_acc, 'r', label='Validation IOU')\n",
        "plt.title('Training and validation IOU')\n",
        "plt.xlabel('Epochs')\n",
        "plt.ylabel('IOU')\n",
        "plt.legend()\n",
        "plt.show()"
      ]
    },
    {
      "cell_type": "code",
      "execution_count": 20,
      "metadata": {
        "id": "_VUR0O1r-lhq",
        "colab": {
          "base_uri": "https://localhost:8080/",
          "height": 626
        },
        "outputId": "e8782da7-d1df-4ad1-8c61-3c22b2fbe66e"
      },
      "outputs": [
        {
          "output_type": "stream",
          "name": "stdout",
          "text": [
            "5/5 [==============================] - 21s 308ms/step\n",
            "Mean IoU = 0.82227355\n",
            "[[1.6243658e+07 5.8733000e+04 7.3050000e+04 6.6000000e+01]\n",
            " [2.4800000e+04 4.8239200e+05 7.6240000e+03 3.4020000e+03]\n",
            " [2.9490900e+05 2.4386000e+04 6.3660930e+06 3.0800000e+02]\n",
            " [1.7400000e+02 2.5970000e+03 7.8300000e+02 9.9850000e+03]]\n",
            "IoU for class1 is:  0.9729427\n",
            "IoU for class2 is:  0.7987495\n",
            "IoU for class3 is:  0.9407343\n",
            "IoU for class4 is:  0.5766676\n"
          ]
        },
        {
          "output_type": "execute_result",
          "data": {
            "text/plain": [
              "<matplotlib.image.AxesImage at 0x7d8203d7bf10>"
            ]
          },
          "metadata": {},
          "execution_count": 20
        },
        {
          "output_type": "display_data",
          "data": {
            "text/plain": [
              "<Figure size 640x480 with 1 Axes>"
            ],
            "image/png": "[encoded data removed]"
          },
          "metadata": {}
        }
      ],
      "source": [
        "from keras.models import load_model\n",
        "from sklearn import metrics\n",
        "\n",
        "# set compile=False as we are not loading it for training, only for prediction.\n",
        "model = load_model('/content/drive/MyDrive/segmentation_models/unet_softmax_1500_seresnet50.hdf5', compile=False)\n",
        "# model = model_in_mem\n",
        "\n",
        "# IoU\n",
        "X_test = preprocess_input(X_test)\n",
        "y_pred2=model.predict(X_test)\n",
        "y_pred2_argmax=np.argmax(y_pred2, axis=3)\n",
        "\n",
        "# using built in keras function\n",
        "n_classes = 4\n",
        "IOU_keras = MeanIoU(num_classes=n_classes)\n",
        "IOU_keras.update_state(y_test[:,:,:,0], y_pred2_argmax)\n",
        "print(\"Mean IoU =\", IOU_keras.result().numpy())\n",
        "\n",
        "# to calculate I0U for each class...\n",
        "values = np.array(IOU_keras.get_weights()).reshape(n_classes, n_classes)\n",
        "print(values)\n",
        "class1_IoU = values[0,0]/(values[0,0] + values[0,1] + values[0,2] + values[0,3] + values[1,0]+ values[2,0]+ values[3,0])\n",
        "class2_IoU = values[1,1]/(values[1,1] + values[1,0] + values[1,2] + values[1,3] + values[0,1]+ values[2,1]+ values[3,1])\n",
        "class3_IoU = values[2,2]/(values[2,2] + values[2,0] + values[2,1] + values[2,3] + values[0,2]+ values[1,2]+ values[3,2])\n",
        "class4_IoU = values[3,3]/(values[3,3] + values[3,0] + values[3,1] + values[3,2] + values[0,3]+ values[1,3]+ values[2,3])\n",
        "\n",
        "print(\"IoU for class1 is: \", class1_IoU)\n",
        "print(\"IoU for class2 is: \", class2_IoU)\n",
        "print(\"IoU for class3 is: \", class3_IoU)\n",
        "print(\"IoU for class4 is: \", class4_IoU)\n",
        "\n",
        "# verify the prediction on first image\n",
        "plt.imshow(train_images[0, :,:,0], cmap='gray')\n",
        "plt.imshow(train_masks[0], cmap='gray')"
      ]
    },
    {
      "cell_type": "code",
      "execution_count": 23,
      "metadata": {
        "colab": {
          "base_uri": "https://localhost:8080/",
          "height": 250
        },
        "id": "wjYmgXYFL1I0",
        "outputId": "f94a5eec-0f9e-452b-ad8c-a8aec54ecad6"
      },
      "outputs": [
        {
          "output_type": "stream",
          "name": "stdout",
          "text": [
            "1/1 [==============================] - 3s 3s/step\n"
          ]
        },
        {
          "output_type": "display_data",
          "data": {
            "text/plain": [
              "<Figure size 1200x800 with 3 Axes>"
            ],
            "image/png": "[encoded data removed]"
          },
          "metadata": {}
        }
      ],
      "source": [
        "import random\n",
        "test_img_number = random.randint(0, len(X_test)-1)\n",
        "test_img = X_test[test_img_number]\n",
        "ground_truth=y_test[test_img_number]\n",
        "test_img_input=np.expand_dims(test_img, 0)\n",
        "\n",
        "test_img_input1 = preprocess_input(test_img_input)\n",
        "\n",
        "test_pred1 = model.predict(test_img_input1)\n",
        "test_prediction1 = np.argmax(test_pred1, axis=3)[0,:,:]\n",
        "\n",
        "import torch\n",
        "import torch.nn as nn\n",
        "import torch.nn.functional as F\n",
        "\n",
        "def pixel_accuracy(output, gt):\n",
        "  with torch.no_grad():\n",
        "    output = torch.from_numpy(output).float()\n",
        "    gt = torch.from_numpy(gt).float()\n",
        "\n",
        "    # apply softmax to the output to get the predicted probabilities for each class\n",
        "    # then, select the class with the highest probability as the predicted class for each pixel\n",
        "    output = torch.argmax(F.softmax(output, dim=1), dim=1)\n",
        "    correct = torch.eq(output, gt).int()\n",
        "\n",
        "    # compute the accuracy as the number of correctly predicted pixels divided by the total number of pixels\n",
        "    accuracy = float(correct.sum()) / float(correct.numel())\n",
        "  return accuracy\n",
        "\n",
        "# print(pixel_accuracy(test_prediction1, ground_truth))\n",
        "\n",
        "\n",
        "plt.figure(figsize=(12, 8))\n",
        "plt.subplot(231)\n",
        "plt.title('Testing Image')\n",
        "plt.imshow(test_img[:,:,0], cmap='gray')\n",
        "plt.subplot(232)\n",
        "plt.title('Testing Label')\n",
        "plt.imshow(ground_truth[:,:,0],vmin=0, vmax=3, cmap='gray')\n",
        "plt.subplot(233)\n",
        "plt.title('Prediction on test image')\n",
        "plt.imshow(test_prediction1, vmin=0, vmax=3, cmap='gray')\n",
        "plt.show()"
      ]
    },
    {
      "cell_type": "code",
      "execution_count": null,
      "metadata": {
        "id": "qLmPkKkmf5zS"
      },
      "outputs": [],
      "source": [
        "\n"
      ]
    }
  ],
  "metadata": {
    "accelerator": "GPU",
    "colab": {
      "machine_shape": "hm",
      "provenance": []
    },
    "kernelspec": {
      "display_name": "Python 3",
      "name": "python3"
    },
    "language_info": {
      "codemirror_mode": {
        "name": "ipython",
        "version": 3
      },
      "file_extension": ".py",
      "mimetype": "text/x-python",
      "name": "python",
      "nbconvert_exporter": "python",
      "pygments_lexer": "ipython3",
      "version": "3.9.16"
    }
  },
  "nbformat": 4,
  "nbformat_minor": 0
}