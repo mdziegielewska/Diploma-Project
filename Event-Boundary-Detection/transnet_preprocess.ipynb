{
 "cells": [
  {
   "cell_type": "code",
   "execution_count": 1,
   "metadata": {},
   "outputs": [
    {
     "name": "stderr",
     "output_type": "stream",
     "text": [
      "2023-08-12 11:22:15.588918: I tensorflow/core/util/port.cc:110] oneDNN custom operations are on. You may see slightly different numerical results due to floating-point round-off errors from different computation orders. To turn them off, set the environment variable `TF_ENABLE_ONEDNN_OPTS=0`.\n",
      "2023-08-12 11:22:15.625803: I tensorflow/core/platform/cpu_feature_guard.cc:182] This TensorFlow binary is optimized to use available CPU instructions in performance-critical operations.\n",
      "To enable the following instructions: AVX2 AVX512F AVX512_VNNI FMA, in other operations, rebuild TensorFlow with the appropriate compiler flags.\n",
      "2023-08-12 11:22:16.350549: W tensorflow/compiler/tf2tensorrt/utils/py_utils.cc:38] TF-TRT Warning: Could not find TensorRT\n"
     ]
    },
    {
     "name": "stdout",
     "output_type": "stream",
     "text": [
      "Num GPUs Available:  0\n"
     ]
    },
    {
     "name": "stderr",
     "output_type": "stream",
     "text": [
      "2023-08-12 11:22:17.851564: E tensorflow/compiler/xla/stream_executor/cuda/cuda_driver.cc:266] failed call to cuInit: CUDA_ERROR_NO_DEVICE: no CUDA-capable device is detected\n",
      "2023-08-12 11:22:17.851588: I tensorflow/compiler/xla/stream_executor/cuda/cuda_diagnostics.cc:168] retrieving CUDA diagnostic information for host: PL-MDZIEGIEL\n",
      "2023-08-12 11:22:17.851593: I tensorflow/compiler/xla/stream_executor/cuda/cuda_diagnostics.cc:175] hostname: PL-MDZIEGIEL\n",
      "2023-08-12 11:22:17.851698: I tensorflow/compiler/xla/stream_executor/cuda/cuda_diagnostics.cc:199] libcuda reported version is: 470.199.2\n",
      "2023-08-12 11:22:17.851712: I tensorflow/compiler/xla/stream_executor/cuda/cuda_diagnostics.cc:203] kernel reported version is: 470.199.2\n",
      "2023-08-12 11:22:17.851716: I tensorflow/compiler/xla/stream_executor/cuda/cuda_diagnostics.cc:309] kernel version seems to match DSO: 470.199.2\n"
     ]
    }
   ],
   "source": [
    "import os\n",
    "os.environ[\"CUDA_VISIBLE_DEVICES\"] = \"1\"\n",
    "import tensorflow as tf\n",
    "print(\"Num GPUs Available: \", len(tf.config.list_physical_devices('GPU')))\n",
    "import pandas as pd\n",
    "import numpy as np\n",
    "from utils import get_total_frames\n",
    "import json\n",
    "from TransNetV2.inference import TransNetV2"
   ]
  },
  {
   "cell_type": "code",
   "execution_count": 2,
   "metadata": {},
   "outputs": [
    {
     "name": "stdout",
     "output_type": "stream",
     "text": [
      "[TransNetV2] Using weights from /media/madziegielewska/Seagate Expansion Drive/MAGISTERKA/diploma-project/TransNetV2/inference/transnetv2-weights/.\n"
     ]
    }
   ],
   "source": [
    "dir = f\"/media/madziegielewska/Seagate Expansion Drive/MAGISTERKA/diploma-project/videos/\"\n",
    "\n",
    "model = TransNetV2()"
   ]
  },
  {
   "cell_type": "code",
   "execution_count": 4,
   "metadata": {},
   "outputs": [
    {
     "data": {
      "text/plain": [
       "897"
      ]
     },
     "execution_count": 4,
     "metadata": {},
     "output_type": "execute_result"
    }
   ],
   "source": [
    "# read all videos\n",
    "\n",
    "dir_path = 'videos'\n",
    "files = []\n",
    "\n",
    "for path in os.listdir(dir_path):\n",
    "    if os.path.isfile(os.path.join(dir_path, path)):\n",
    "        files.append(path)\n",
    "\n",
    "files.sort()\n",
    "len(files)"
   ]
  },
  {
   "cell_type": "code",
   "execution_count": 6,
   "metadata": {},
   "outputs": [],
   "source": [
    "# open file in write mode\n",
    "with open(r'/media/madziegielewska/Seagate Expansion Drive/MAGISTERKA/diploma-project/mp4_files.txt', 'w') as fp:\n",
    "    for file in files:\n",
    "        # write each item on a new line\n",
    "        fp.write(\"%s\\n\" % file)"
   ]
  },
  {
   "cell_type": "code",
   "execution_count": 7,
   "metadata": {},
   "outputs": [],
   "source": [
    "df = pd.read_csv('Event-Boundary-Detection/data.csv')\n",
    "\n",
    "video = df['video'].tolist()\n",
    "frame = df['frame'].tolist()"
   ]
  },
  {
   "cell_type": "code",
   "execution_count": 10,
   "metadata": {},
   "outputs": [],
   "source": [
    "with open('/media/madziegielewska/Seagate Expansion Drive/MAGISTERKA/diploma-project/transnet_preprocess.json') as fp:\n",
    "    train = json.load(fp)\n",
    "\n",
    "d = {}\n",
    "for file in files:\n",
    "    file_path = f\"{dir}{file}\"\n",
    "    frame_num = get_total_frames(file_path)\n",
    "\n",
    "    transition = df.loc[df.video==file]['frame'].values[0]\n",
    "\n",
    "    d[file] = {\n",
    "        \"transition\": [[int(transition-1),int(transition)]], \\\n",
    "        'frame_num': int(frame_num)\n",
    "    }\n",
    "\n",
    "\n",
    "with open('transnet_preprocess.json', 'w') as outfile:\n",
    "    json.dump(d, outfile)"
   ]
  }
 ],
 "metadata": {
  "kernelspec": {
   "display_name": "unet_test",
   "language": "python",
   "name": "python3"
  },
  "language_info": {
   "codemirror_mode": {
    "name": "ipython",
    "version": 3
   },
   "file_extension": ".py",
   "mimetype": "text/x-python",
   "name": "python",
   "nbconvert_exporter": "python",
   "pygments_lexer": "ipython3",
   "version": "3.9.16"
  },
  "orig_nbformat": 4
 },
 "nbformat": 4,
 "nbformat_minor": 2
}
